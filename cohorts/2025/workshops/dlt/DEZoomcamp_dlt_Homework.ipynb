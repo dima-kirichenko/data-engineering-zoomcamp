{
 "cells": [
  {
   "cell_type": "markdown",
   "metadata": {
    "id": "EFPjhhB5VXd9"
   },
   "source": [
    "# **Workshop \"Data Ingestion with dlt\": Homework**\n"
   ]
  },
  {
   "cell_type": "markdown",
   "metadata": {
    "id": "a0V54cILVjfy"
   },
   "source": [
    "---\n",
    "\n",
    "## **Dataset & API**\n",
    "\n",
    "We’ll use **NYC Taxi data** via the same custom API from the workshop:\n",
    "\n",
    "🔹 **Base API URL:**  \n",
    "```\n",
    "https://us-central1-dlthub-analytics.cloudfunctions.net/data_engineering_zoomcamp_api\n",
    "```\n",
    "🔹 **Data format:** Paginated JSON (1,000 records per page).  \n",
    "🔹 **API Pagination:** Stop when an empty page is returned.  "
   ]
  },
  {
   "cell_type": "markdown",
   "metadata": {
    "id": "pNq2oqruVtiQ"
   },
   "source": [
    "## **Question 1: dlt Version**\n",
    "\n",
    "1. **Install dlt**:"
   ]
  },
  {
   "cell_type": "code",
   "execution_count": 1,
   "metadata": {
    "id": "9yTfzUkZVwYi"
   },
   "outputs": [
    {
     "name": "stdout",
     "output_type": "stream",
     "text": [
      "Collecting dlt[duckdb]\n",
      "  Downloading dlt-1.6.1-py3-none-any.whl.metadata (11 kB)\n",
      "Collecting PyYAML>=5.4.1 (from dlt[duckdb])\n",
      "  Downloading PyYAML-6.0.2-cp313-cp313-manylinux_2_17_x86_64.manylinux2014_x86_64.whl.metadata (2.1 kB)\n",
      "Collecting click>=7.1 (from dlt[duckdb])\n",
      "  Downloading click-8.1.8-py3-none-any.whl.metadata (2.3 kB)\n",
      "Collecting dlt-pendulum>=3.0.2 (from dlt[duckdb])\n",
      "  Downloading dlt_pendulum-3.0.2-cp313-cp313-manylinux_2_17_x86_64.manylinux2014_x86_64.whl.metadata (6.8 kB)\n",
      "Collecting duckdb>=0.9 (from dlt[duckdb])\n",
      "  Downloading duckdb-1.2.0-cp313-cp313-manylinux_2_17_x86_64.manylinux2014_x86_64.whl.metadata (966 bytes)\n",
      "Collecting fsspec>=2022.4.0 (from dlt[duckdb])\n",
      "  Downloading fsspec-2025.2.0-py3-none-any.whl.metadata (11 kB)\n",
      "Collecting gitpython>=3.1.29 (from dlt[duckdb])\n",
      "  Downloading GitPython-3.1.44-py3-none-any.whl.metadata (13 kB)\n",
      "Collecting giturlparse>=0.10.0 (from dlt[duckdb])\n",
      "  Downloading giturlparse-0.12.0-py2.py3-none-any.whl.metadata (4.5 kB)\n",
      "Collecting hexbytes>=0.2.2 (from dlt[duckdb])\n",
      "  Downloading hexbytes-1.3.0-py3-none-any.whl.metadata (3.3 kB)\n",
      "Collecting humanize>=4.4.0 (from dlt[duckdb])\n",
      "  Downloading humanize-4.11.0-py3-none-any.whl.metadata (7.8 kB)\n",
      "Collecting jsonpath-ng>=1.5.3 (from dlt[duckdb])\n",
      "  Downloading jsonpath_ng-1.7.0-py3-none-any.whl.metadata (18 kB)\n",
      "Collecting makefun>=1.15.0 (from dlt[duckdb])\n",
      "  Downloading makefun-1.15.6-py2.py3-none-any.whl.metadata (3.2 kB)\n",
      "Collecting orjson!=3.10.1,!=3.9.11,!=3.9.12,!=3.9.13,!=3.9.14,<4,>=3.6.7 (from dlt[duckdb])\n",
      "  Downloading orjson-3.10.15-cp313-cp313-manylinux_2_17_x86_64.manylinux2014_x86_64.whl.metadata (41 kB)\n",
      "Requirement already satisfied: packaging>=21.1 in /home/dima/data-engineering-zoomcamp/venv/lib/python3.13/site-packages (from dlt[duckdb]) (24.2)\n",
      "Collecting pathvalidate>=2.5.2 (from dlt[duckdb])\n",
      "  Downloading pathvalidate-3.2.3-py3-none-any.whl.metadata (12 kB)\n",
      "Collecting pluggy>=1.3.0 (from dlt[duckdb])\n",
      "  Downloading pluggy-1.5.0-py3-none-any.whl.metadata (4.8 kB)\n",
      "Collecting pytz>=2022.6 (from dlt[duckdb])\n",
      "  Downloading pytz-2025.1-py2.py3-none-any.whl.metadata (22 kB)\n",
      "Requirement already satisfied: requests>=2.26.0 in /home/dima/data-engineering-zoomcamp/venv/lib/python3.13/site-packages (from dlt[duckdb]) (2.32.3)\n",
      "Collecting requirements-parser>=0.5.0 (from dlt[duckdb])\n",
      "  Downloading requirements_parser-0.11.0-py3-none-any.whl.metadata (4.7 kB)\n",
      "Collecting rich-argparse<2.0.0,>=1.6.0 (from dlt[duckdb])\n",
      "  Downloading rich_argparse-1.7.0-py3-none-any.whl.metadata (14 kB)\n",
      "Collecting semver>=3.0.0 (from dlt[duckdb])\n",
      "  Downloading semver-3.0.4-py3-none-any.whl.metadata (6.8 kB)\n",
      "Collecting setuptools>=65.6.0 (from dlt[duckdb])\n",
      "  Using cached setuptools-75.8.0-py3-none-any.whl.metadata (6.7 kB)\n",
      "Collecting simplejson>=3.17.5 (from dlt[duckdb])\n",
      "  Downloading simplejson-3.19.3-cp313-cp313-manylinux_2_5_x86_64.manylinux1_x86_64.manylinux_2_17_x86_64.manylinux2014_x86_64.whl.metadata (3.2 kB)\n",
      "Collecting tenacity>=8.0.2 (from dlt[duckdb])\n",
      "  Downloading tenacity-9.0.0-py3-none-any.whl.metadata (1.2 kB)\n",
      "Collecting tomlkit>=0.11.3 (from dlt[duckdb])\n",
      "  Downloading tomlkit-0.13.2-py3-none-any.whl.metadata (2.7 kB)\n",
      "Collecting typing-extensions>=4.8.0 (from dlt[duckdb])\n",
      "  Downloading typing_extensions-4.12.2-py3-none-any.whl.metadata (3.0 kB)\n",
      "Collecting tzdata>=2022.1 (from dlt[duckdb])\n",
      "  Downloading tzdata-2025.1-py2.py3-none-any.whl.metadata (1.4 kB)\n",
      "Requirement already satisfied: python-dateutil>=2.6 in /home/dima/data-engineering-zoomcamp/venv/lib/python3.13/site-packages (from dlt-pendulum>=3.0.2->dlt[duckdb]) (2.9.0.post0)\n",
      "Collecting cffi>=1.17 (from dlt-pendulum>=3.0.2->dlt[duckdb])\n",
      "  Downloading cffi-1.17.1-cp313-cp313-manylinux_2_17_x86_64.manylinux2014_x86_64.whl.metadata (1.5 kB)\n",
      "Collecting gitdb<5,>=4.0.1 (from gitpython>=3.1.29->dlt[duckdb])\n",
      "  Downloading gitdb-4.0.12-py3-none-any.whl.metadata (1.2 kB)\n",
      "Collecting ply (from jsonpath-ng>=1.5.3->dlt[duckdb])\n",
      "  Downloading ply-3.11-py2.py3-none-any.whl.metadata (844 bytes)\n",
      "Requirement already satisfied: charset-normalizer<4,>=2 in /home/dima/data-engineering-zoomcamp/venv/lib/python3.13/site-packages (from requests>=2.26.0->dlt[duckdb]) (3.4.1)\n",
      "Requirement already satisfied: idna<4,>=2.5 in /home/dima/data-engineering-zoomcamp/venv/lib/python3.13/site-packages (from requests>=2.26.0->dlt[duckdb]) (3.10)\n",
      "Requirement already satisfied: urllib3<3,>=1.21.1 in /home/dima/data-engineering-zoomcamp/venv/lib/python3.13/site-packages (from requests>=2.26.0->dlt[duckdb]) (2.3.0)\n",
      "Requirement already satisfied: certifi>=2017.4.17 in /home/dima/data-engineering-zoomcamp/venv/lib/python3.13/site-packages (from requests>=2.26.0->dlt[duckdb]) (2025.1.31)\n",
      "Collecting types-setuptools>=69.1.0 (from requirements-parser>=0.5.0->dlt[duckdb])\n",
      "  Downloading types_setuptools-75.8.0.20250110-py3-none-any.whl.metadata (2.2 kB)\n",
      "Collecting rich>=11.0.0 (from rich-argparse<2.0.0,>=1.6.0->dlt[duckdb])\n",
      "  Downloading rich-13.9.4-py3-none-any.whl.metadata (18 kB)\n",
      "Collecting pycparser (from cffi>=1.17->dlt-pendulum>=3.0.2->dlt[duckdb])\n",
      "  Using cached pycparser-2.22-py3-none-any.whl.metadata (943 bytes)\n",
      "Collecting smmap<6,>=3.0.1 (from gitdb<5,>=4.0.1->gitpython>=3.1.29->dlt[duckdb])\n",
      "  Downloading smmap-5.0.2-py3-none-any.whl.metadata (4.3 kB)\n",
      "Requirement already satisfied: six>=1.5 in /home/dima/data-engineering-zoomcamp/venv/lib/python3.13/site-packages (from python-dateutil>=2.6->dlt-pendulum>=3.0.2->dlt[duckdb]) (1.17.0)\n",
      "Collecting markdown-it-py>=2.2.0 (from rich>=11.0.0->rich-argparse<2.0.0,>=1.6.0->dlt[duckdb])\n",
      "  Downloading markdown_it_py-3.0.0-py3-none-any.whl.metadata (6.9 kB)\n",
      "Requirement already satisfied: pygments<3.0.0,>=2.13.0 in /home/dima/data-engineering-zoomcamp/venv/lib/python3.13/site-packages (from rich>=11.0.0->rich-argparse<2.0.0,>=1.6.0->dlt[duckdb]) (2.19.1)\n",
      "Collecting mdurl~=0.1 (from markdown-it-py>=2.2.0->rich>=11.0.0->rich-argparse<2.0.0,>=1.6.0->dlt[duckdb])\n",
      "  Downloading mdurl-0.1.2-py3-none-any.whl.metadata (1.6 kB)\n",
      "Downloading click-8.1.8-py3-none-any.whl (98 kB)\n",
      "Downloading dlt_pendulum-3.0.2-cp313-cp313-manylinux_2_17_x86_64.manylinux2014_x86_64.whl (346 kB)\n",
      "Downloading duckdb-1.2.0-cp313-cp313-manylinux_2_17_x86_64.manylinux2014_x86_64.whl (20.2 MB)\n",
      "\u001b[2K   \u001b[90m━━━━━━━━━━━━━━━━━━━━━━━━━━━━━━━━━━━━━━━━\u001b[0m \u001b[32m20.2/20.2 MB\u001b[0m \u001b[31m11.1 MB/s\u001b[0m eta \u001b[36m0:00:00\u001b[0m00:01\u001b[0m00:01\u001b[0m\n",
      "\u001b[?25hDownloading fsspec-2025.2.0-py3-none-any.whl (184 kB)\n",
      "Downloading GitPython-3.1.44-py3-none-any.whl (207 kB)\n",
      "Downloading giturlparse-0.12.0-py2.py3-none-any.whl (15 kB)\n",
      "Downloading hexbytes-1.3.0-py3-none-any.whl (4.9 kB)\n",
      "Downloading humanize-4.11.0-py3-none-any.whl (128 kB)\n",
      "Downloading jsonpath_ng-1.7.0-py3-none-any.whl (30 kB)\n",
      "Downloading makefun-1.15.6-py2.py3-none-any.whl (22 kB)\n",
      "Downloading orjson-3.10.15-cp313-cp313-manylinux_2_17_x86_64.manylinux2014_x86_64.whl (130 kB)\n",
      "Downloading pathvalidate-3.2.3-py3-none-any.whl (24 kB)\n",
      "Downloading pluggy-1.5.0-py3-none-any.whl (20 kB)\n",
      "Downloading pytz-2025.1-py2.py3-none-any.whl (507 kB)\n",
      "Downloading PyYAML-6.0.2-cp313-cp313-manylinux_2_17_x86_64.manylinux2014_x86_64.whl (759 kB)\n",
      "\u001b[2K   \u001b[90m━━━━━━━━━━━━━━━━━━━━━━━━━━━━━━━━━━━━━━━━\u001b[0m \u001b[32m759.5/759.5 kB\u001b[0m \u001b[31m11.5 MB/s\u001b[0m eta \u001b[36m0:00:00\u001b[0m\n",
      "\u001b[?25hDownloading requirements_parser-0.11.0-py3-none-any.whl (14 kB)\n",
      "Downloading rich_argparse-1.7.0-py3-none-any.whl (25 kB)\n",
      "Downloading semver-3.0.4-py3-none-any.whl (17 kB)\n",
      "Using cached setuptools-75.8.0-py3-none-any.whl (1.2 MB)\n",
      "Downloading simplejson-3.19.3-cp313-cp313-manylinux_2_5_x86_64.manylinux1_x86_64.manylinux_2_17_x86_64.manylinux2014_x86_64.whl (152 kB)\n",
      "Downloading tenacity-9.0.0-py3-none-any.whl (28 kB)\n",
      "Downloading tomlkit-0.13.2-py3-none-any.whl (37 kB)\n",
      "Downloading typing_extensions-4.12.2-py3-none-any.whl (37 kB)\n",
      "Downloading tzdata-2025.1-py2.py3-none-any.whl (346 kB)\n",
      "Downloading dlt-1.6.1-py3-none-any.whl (884 kB)\n",
      "\u001b[2K   \u001b[90m━━━━━━━━━━━━━━━━━━━━━━━━━━━━━━━━━━━━━━━━\u001b[0m \u001b[32m884.3/884.3 kB\u001b[0m \u001b[31m12.8 MB/s\u001b[0m eta \u001b[36m0:00:00\u001b[0m\n",
      "\u001b[?25hDownloading cffi-1.17.1-cp313-cp313-manylinux_2_17_x86_64.manylinux2014_x86_64.whl (479 kB)\n",
      "Downloading gitdb-4.0.12-py3-none-any.whl (62 kB)\n",
      "Downloading rich-13.9.4-py3-none-any.whl (242 kB)\n",
      "Downloading types_setuptools-75.8.0.20250110-py3-none-any.whl (71 kB)\n",
      "Downloading ply-3.11-py2.py3-none-any.whl (49 kB)\n",
      "Downloading markdown_it_py-3.0.0-py3-none-any.whl (87 kB)\n",
      "Downloading smmap-5.0.2-py3-none-any.whl (24 kB)\n",
      "Using cached pycparser-2.22-py3-none-any.whl (117 kB)\n",
      "Downloading mdurl-0.1.2-py3-none-any.whl (10.0 kB)\n",
      "Installing collected packages: pytz, ply, makefun, tzdata, typing-extensions, types-setuptools, tomlkit, tenacity, smmap, simplejson, setuptools, semver, PyYAML, pycparser, pluggy, pathvalidate, orjson, mdurl, jsonpath-ng, humanize, hexbytes, giturlparse, fsspec, duckdb, click, requirements-parser, markdown-it-py, gitdb, cffi, rich, gitpython, dlt-pendulum, rich-argparse, dlt\n",
      "Successfully installed PyYAML-6.0.2 cffi-1.17.1 click-8.1.8 dlt-1.6.1 dlt-pendulum-3.0.2 duckdb-1.2.0 fsspec-2025.2.0 gitdb-4.0.12 gitpython-3.1.44 giturlparse-0.12.0 hexbytes-1.3.0 humanize-4.11.0 jsonpath-ng-1.7.0 makefun-1.15.6 markdown-it-py-3.0.0 mdurl-0.1.2 orjson-3.10.15 pathvalidate-3.2.3 pluggy-1.5.0 ply-3.11 pycparser-2.22 pytz-2025.1 requirements-parser-0.11.0 rich-13.9.4 rich-argparse-1.7.0 semver-3.0.4 setuptools-75.8.0 simplejson-3.19.3 smmap-5.0.2 tenacity-9.0.0 tomlkit-0.13.2 types-setuptools-75.8.0.20250110 typing-extensions-4.12.2 tzdata-2025.1\n"
     ]
    }
   ],
   "source": [
    " !pip install dlt[duckdb]"
   ]
  },
  {
   "cell_type": "markdown",
   "metadata": {
    "id": "Xv9gkwKIV3wM"
   },
   "source": [
    "> Or choose a different bracket—`bigquery`, `redshift`, etc.—if you prefer another primary destination. For this assignment, we’ll still do a quick test with DuckDB.\n",
    "\n",
    "2. **Check** the version:\n"
   ]
  },
  {
   "cell_type": "code",
   "execution_count": 2,
   "metadata": {
    "id": "scFCGjeMWCkI"
   },
   "outputs": [
    {
     "name": "stdout",
     "output_type": "stream",
     "text": [
      "\u001b[39mdlt 1.6.1\u001b[0m\n"
     ]
    }
   ],
   "source": [
    "!dlt --version"
   ]
  },
  {
   "cell_type": "markdown",
   "metadata": {
    "id": "Z-YrUxR8WFNw"
   },
   "source": [
    "or:"
   ]
  },
  {
   "cell_type": "code",
   "execution_count": 12,
   "metadata": {
    "id": "SSm1xDzPV5dO"
   },
   "outputs": [
    {
     "name": "stdout",
     "output_type": "stream",
     "text": [
      "dlt version: 1.6.1\n"
     ]
    }
   ],
   "source": [
    "import dlt\n",
    "print(\"dlt version:\", dlt.__version__)"
   ]
  },
  {
   "cell_type": "markdown",
   "metadata": {
    "id": "f0Z3F5s4WaXO"
   },
   "source": [
    "**Answer**:  \n",
    "- Provide the **version** you see in the output. 1.6.1"
   ]
  },
  {
   "cell_type": "markdown",
   "metadata": {
    "id": "M02IXn-GWdBO"
   },
   "source": [
    "## **Question 2: Define & Run the Pipeline (NYC Taxi API)**\n",
    "\n",
    "Use dlt to extract all pages of data from the API.\n",
    "\n",
    "Steps:\n",
    "\n",
    "1️⃣ Use the `@dlt.resource` decorator to define the API source.\n",
    "\n",
    "2️⃣ Implement automatic pagination using dlt's built-in REST client.\n",
    "\n",
    "3️⃣ Load the extracted data into DuckDB for querying.\n",
    "\n"
   ]
  },
  {
   "cell_type": "code",
   "execution_count": 4,
   "metadata": {
    "id": "8ChhfBNUWshT"
   },
   "outputs": [],
   "source": [
    "import dlt\n",
    "from dlt.sources.helpers.rest_client import RESTClient\n",
    "from dlt.sources.helpers.rest_client.paginators import PageNumberPaginator\n",
    "\n",
    "@dlt.resource(name=\"rides\", write_disposition=\"replace\")\n",
    "def ny_taxi():\n",
    "    client = RESTClient(\n",
    "        base_url=\"https://us-central1-dlthub-analytics.cloudfunctions.net\",\n",
    "        paginator=PageNumberPaginator(\n",
    "            base_page=1,   # Start from page 1\n",
    "            total_path=None    # API doesn't provide total pages, stop when empty page\n",
    "        )\n",
    "    )\n",
    "\n",
    "    for page in client.paginate(\"data_engineering_zoomcamp_api\"):\n",
    "        yield page   # Stream data in memory-efficient way\n",
    "\n",
    "pipeline = dlt.pipeline(\n",
    "    pipeline_name=\"ny_taxi_pipeline\",\n",
    "    destination=\"duckdb\",\n",
    "    dataset_name=\"ny_taxi_data\"\n",
    ")"
   ]
  },
  {
   "cell_type": "markdown",
   "metadata": {
    "id": "Y64a4o7qXGzH"
   },
   "source": [
    "Load the data into DuckDB to test:\n",
    "\n",
    "\n",
    "\n",
    "\n"
   ]
  },
  {
   "cell_type": "code",
   "execution_count": 5,
   "metadata": {
    "id": "emXcAQN2XIYk"
   },
   "outputs": [
    {
     "name": "stdout",
     "output_type": "stream",
     "text": [
      "Pipeline ny_taxi_pipeline load step completed in 1.28 seconds\n",
      "1 load package(s) were loaded to destination duckdb and into dataset ny_taxi_data\n",
      "The duckdb destination used duckdb:////home/dima/data-engineering-zoomcamp/cohorts/2025/workshops/dlt/ny_taxi_pipeline.duckdb location to store data\n",
      "Load package 1739136153.653259 is LOADED and contains no failed jobs\n"
     ]
    }
   ],
   "source": [
    "load_info = pipeline.run(ny_taxi)\n",
    "print(load_info)"
   ]
  },
  {
   "cell_type": "markdown",
   "metadata": {
    "id": "VfFtRuJLeTJZ"
   },
   "source": [
    "Start a connection to your database using native `duckdb` connection and look what tables were generated:"
   ]
  },
  {
   "cell_type": "code",
   "execution_count": 9,
   "metadata": {
    "id": "bmOjtD-Xeq3K"
   },
   "outputs": [
    {
     "name": "stdout",
     "output_type": "stream",
     "text": [
      "           database        schema                 name  \\\n",
      "0  ny_taxi_pipeline  ny_taxi_data           _dlt_loads   \n",
      "1  ny_taxi_pipeline  ny_taxi_data  _dlt_pipeline_state   \n",
      "2  ny_taxi_pipeline  ny_taxi_data         _dlt_version   \n",
      "3  ny_taxi_pipeline  ny_taxi_data                rides   \n",
      "\n",
      "                                        column_names  \\\n",
      "0  [load_id, schema_name, status, inserted_at, sc...   \n",
      "1  [version, engine_version, pipeline_name, state...   \n",
      "2  [version, engine_version, inserted_at, schema_...   \n",
      "3  [end_lat, end_lon, fare_amt, passenger_count, ...   \n",
      "\n",
      "                                        column_types  temporary  \n",
      "0  [VARCHAR, VARCHAR, BIGINT, TIMESTAMP WITH TIME...      False  \n",
      "1  [BIGINT, BIGINT, VARCHAR, VARCHAR, TIMESTAMP W...      False  \n",
      "2  [BIGINT, BIGINT, TIMESTAMP WITH TIME ZONE, VAR...      False  \n",
      "3  [DOUBLE, DOUBLE, DOUBLE, BIGINT, VARCHAR, DOUB...      False  \n"
     ]
    }
   ],
   "source": [
    "import duckdb\n",
    "\n",
    "# Connect to the DuckDB database\n",
    "conn = duckdb.connect(f\"{pipeline.pipeline_name}.duckdb\")\n",
    "\n",
    "# Set search path to the dataset\n",
    "conn.sql(f\"SET search_path = '{pipeline.dataset_name}'\")\n",
    "\n",
    "# Describe the dataset\n",
    "print(conn.sql(\"DESCRIBE\").df())"
   ]
  },
  {
   "cell_type": "markdown",
   "metadata": {
    "id": "lmfI_zjoeIrf"
   },
   "source": [
    "**Answer:**\n",
    "* How many tables were created? 4"
   ]
  },
  {
   "cell_type": "markdown",
   "metadata": {
    "id": "LLuS9O63f-fv"
   },
   "source": [
    "## **Question 3: Explore the loaded data**"
   ]
  },
  {
   "cell_type": "markdown",
   "metadata": {
    "id": "d_cWQaQjXLn8"
   },
   "source": [
    "Inspect the table `ride`:\n"
   ]
  },
  {
   "cell_type": "code",
   "execution_count": 10,
   "metadata": {
    "id": "lvpYmnhkXKLZ"
   },
   "outputs": [
    {
     "data": {
      "text/html": [
       "<div>\n",
       "<style scoped>\n",
       "    .dataframe tbody tr th:only-of-type {\n",
       "        vertical-align: middle;\n",
       "    }\n",
       "\n",
       "    .dataframe tbody tr th {\n",
       "        vertical-align: top;\n",
       "    }\n",
       "\n",
       "    .dataframe thead th {\n",
       "        text-align: right;\n",
       "    }\n",
       "</style>\n",
       "<table border=\"1\" class=\"dataframe\">\n",
       "  <thead>\n",
       "    <tr style=\"text-align: right;\">\n",
       "      <th></th>\n",
       "      <th>end_lat</th>\n",
       "      <th>end_lon</th>\n",
       "      <th>fare_amt</th>\n",
       "      <th>passenger_count</th>\n",
       "      <th>payment_type</th>\n",
       "      <th>start_lat</th>\n",
       "      <th>start_lon</th>\n",
       "      <th>tip_amt</th>\n",
       "      <th>tolls_amt</th>\n",
       "      <th>total_amt</th>\n",
       "      <th>trip_distance</th>\n",
       "      <th>trip_dropoff_date_time</th>\n",
       "      <th>trip_pickup_date_time</th>\n",
       "      <th>surcharge</th>\n",
       "      <th>vendor_name</th>\n",
       "      <th>_dlt_load_id</th>\n",
       "      <th>_dlt_id</th>\n",
       "      <th>store_and_forward</th>\n",
       "    </tr>\n",
       "  </thead>\n",
       "  <tbody>\n",
       "    <tr>\n",
       "      <th>0</th>\n",
       "      <td>40.742963</td>\n",
       "      <td>-73.980072</td>\n",
       "      <td>45.0</td>\n",
       "      <td>1</td>\n",
       "      <td>Credit</td>\n",
       "      <td>40.641525</td>\n",
       "      <td>-73.787442</td>\n",
       "      <td>9.0</td>\n",
       "      <td>4.15</td>\n",
       "      <td>58.15</td>\n",
       "      <td>17.52</td>\n",
       "      <td>2009-06-14 23:48:00+00:00</td>\n",
       "      <td>2009-06-14 23:23:00+00:00</td>\n",
       "      <td>0.0</td>\n",
       "      <td>VTS</td>\n",
       "      <td>1739136153.653259</td>\n",
       "      <td>QbWLCQ+azSh9TA</td>\n",
       "      <td>NaN</td>\n",
       "    </tr>\n",
       "    <tr>\n",
       "      <th>1</th>\n",
       "      <td>40.740187</td>\n",
       "      <td>-74.005698</td>\n",
       "      <td>6.5</td>\n",
       "      <td>1</td>\n",
       "      <td>Credit</td>\n",
       "      <td>40.722065</td>\n",
       "      <td>-74.009767</td>\n",
       "      <td>1.0</td>\n",
       "      <td>0.00</td>\n",
       "      <td>8.50</td>\n",
       "      <td>1.56</td>\n",
       "      <td>2009-06-18 17:43:00+00:00</td>\n",
       "      <td>2009-06-18 17:35:00+00:00</td>\n",
       "      <td>1.0</td>\n",
       "      <td>VTS</td>\n",
       "      <td>1739136153.653259</td>\n",
       "      <td>9zYBaAFWGUyP2A</td>\n",
       "      <td>NaN</td>\n",
       "    </tr>\n",
       "    <tr>\n",
       "      <th>2</th>\n",
       "      <td>40.718043</td>\n",
       "      <td>-74.004745</td>\n",
       "      <td>12.5</td>\n",
       "      <td>5</td>\n",
       "      <td>Credit</td>\n",
       "      <td>40.761945</td>\n",
       "      <td>-73.983038</td>\n",
       "      <td>2.0</td>\n",
       "      <td>0.00</td>\n",
       "      <td>15.50</td>\n",
       "      <td>3.37</td>\n",
       "      <td>2009-06-10 18:27:00+00:00</td>\n",
       "      <td>2009-06-10 18:08:00+00:00</td>\n",
       "      <td>1.0</td>\n",
       "      <td>VTS</td>\n",
       "      <td>1739136153.653259</td>\n",
       "      <td>A31LKWx/CakJFg</td>\n",
       "      <td>NaN</td>\n",
       "    </tr>\n",
       "    <tr>\n",
       "      <th>3</th>\n",
       "      <td>40.739637</td>\n",
       "      <td>-73.985233</td>\n",
       "      <td>4.9</td>\n",
       "      <td>1</td>\n",
       "      <td>CASH</td>\n",
       "      <td>40.749802</td>\n",
       "      <td>-73.992247</td>\n",
       "      <td>0.0</td>\n",
       "      <td>0.00</td>\n",
       "      <td>5.40</td>\n",
       "      <td>1.11</td>\n",
       "      <td>2009-06-14 23:58:00+00:00</td>\n",
       "      <td>2009-06-14 23:54:00+00:00</td>\n",
       "      <td>0.5</td>\n",
       "      <td>VTS</td>\n",
       "      <td>1739136153.653259</td>\n",
       "      <td>ESNbIuYv9BZA/g</td>\n",
       "      <td>NaN</td>\n",
       "    </tr>\n",
       "    <tr>\n",
       "      <th>4</th>\n",
       "      <td>40.730032</td>\n",
       "      <td>-73.852693</td>\n",
       "      <td>25.7</td>\n",
       "      <td>1</td>\n",
       "      <td>CASH</td>\n",
       "      <td>40.776825</td>\n",
       "      <td>-73.949233</td>\n",
       "      <td>0.0</td>\n",
       "      <td>4.15</td>\n",
       "      <td>29.85</td>\n",
       "      <td>11.09</td>\n",
       "      <td>2009-06-13 13:23:00+00:00</td>\n",
       "      <td>2009-06-13 13:01:00+00:00</td>\n",
       "      <td>0.0</td>\n",
       "      <td>VTS</td>\n",
       "      <td>1739136153.653259</td>\n",
       "      <td>j0dvjEbL9Thg+Q</td>\n",
       "      <td>NaN</td>\n",
       "    </tr>\n",
       "    <tr>\n",
       "      <th>...</th>\n",
       "      <td>...</td>\n",
       "      <td>...</td>\n",
       "      <td>...</td>\n",
       "      <td>...</td>\n",
       "      <td>...</td>\n",
       "      <td>...</td>\n",
       "      <td>...</td>\n",
       "      <td>...</td>\n",
       "      <td>...</td>\n",
       "      <td>...</td>\n",
       "      <td>...</td>\n",
       "      <td>...</td>\n",
       "      <td>...</td>\n",
       "      <td>...</td>\n",
       "      <td>...</td>\n",
       "      <td>...</td>\n",
       "      <td>...</td>\n",
       "      <td>...</td>\n",
       "    </tr>\n",
       "    <tr>\n",
       "      <th>9995</th>\n",
       "      <td>40.783522</td>\n",
       "      <td>-73.970690</td>\n",
       "      <td>5.7</td>\n",
       "      <td>1</td>\n",
       "      <td>CASH</td>\n",
       "      <td>40.778560</td>\n",
       "      <td>-73.953660</td>\n",
       "      <td>0.0</td>\n",
       "      <td>0.00</td>\n",
       "      <td>5.70</td>\n",
       "      <td>1.16</td>\n",
       "      <td>2009-06-19 11:28:00+00:00</td>\n",
       "      <td>2009-06-19 11:22:00+00:00</td>\n",
       "      <td>0.0</td>\n",
       "      <td>VTS</td>\n",
       "      <td>1739136153.653259</td>\n",
       "      <td>agPlaLi/ZkdTCg</td>\n",
       "      <td>NaN</td>\n",
       "    </tr>\n",
       "    <tr>\n",
       "      <th>9996</th>\n",
       "      <td>40.777200</td>\n",
       "      <td>-73.964197</td>\n",
       "      <td>4.1</td>\n",
       "      <td>1</td>\n",
       "      <td>CASH</td>\n",
       "      <td>40.779800</td>\n",
       "      <td>-73.974297</td>\n",
       "      <td>0.0</td>\n",
       "      <td>0.00</td>\n",
       "      <td>4.10</td>\n",
       "      <td>0.89</td>\n",
       "      <td>2009-06-17 07:43:00+00:00</td>\n",
       "      <td>2009-06-17 07:41:00+00:00</td>\n",
       "      <td>0.0</td>\n",
       "      <td>VTS</td>\n",
       "      <td>1739136153.653259</td>\n",
       "      <td>b9WdrgWmi7d2Hw</td>\n",
       "      <td>NaN</td>\n",
       "    </tr>\n",
       "    <tr>\n",
       "      <th>9997</th>\n",
       "      <td>40.780172</td>\n",
       "      <td>-73.957617</td>\n",
       "      <td>6.1</td>\n",
       "      <td>1</td>\n",
       "      <td>CASH</td>\n",
       "      <td>40.788388</td>\n",
       "      <td>-73.976758</td>\n",
       "      <td>0.0</td>\n",
       "      <td>0.00</td>\n",
       "      <td>6.10</td>\n",
       "      <td>1.30</td>\n",
       "      <td>2009-06-19 11:46:00+00:00</td>\n",
       "      <td>2009-06-19 11:39:00+00:00</td>\n",
       "      <td>0.0</td>\n",
       "      <td>VTS</td>\n",
       "      <td>1739136153.653259</td>\n",
       "      <td>hXpaEaqFJXyIkQ</td>\n",
       "      <td>NaN</td>\n",
       "    </tr>\n",
       "    <tr>\n",
       "      <th>9998</th>\n",
       "      <td>40.777342</td>\n",
       "      <td>-73.957242</td>\n",
       "      <td>5.7</td>\n",
       "      <td>1</td>\n",
       "      <td>CASH</td>\n",
       "      <td>40.773828</td>\n",
       "      <td>-73.956690</td>\n",
       "      <td>0.0</td>\n",
       "      <td>0.00</td>\n",
       "      <td>6.20</td>\n",
       "      <td>0.97</td>\n",
       "      <td>2009-06-17 04:19:00+00:00</td>\n",
       "      <td>2009-06-17 04:13:00+00:00</td>\n",
       "      <td>0.5</td>\n",
       "      <td>VTS</td>\n",
       "      <td>1739136153.653259</td>\n",
       "      <td>G/ECbsMTJ+mm9w</td>\n",
       "      <td>NaN</td>\n",
       "    </tr>\n",
       "    <tr>\n",
       "      <th>9999</th>\n",
       "      <td>40.757122</td>\n",
       "      <td>-73.986293</td>\n",
       "      <td>6.5</td>\n",
       "      <td>1</td>\n",
       "      <td>Credit</td>\n",
       "      <td>40.756313</td>\n",
       "      <td>-73.972948</td>\n",
       "      <td>2.0</td>\n",
       "      <td>0.00</td>\n",
       "      <td>8.50</td>\n",
       "      <td>0.92</td>\n",
       "      <td>2009-06-17 08:34:00+00:00</td>\n",
       "      <td>2009-06-17 08:24:00+00:00</td>\n",
       "      <td>0.0</td>\n",
       "      <td>VTS</td>\n",
       "      <td>1739136153.653259</td>\n",
       "      <td>Bf1xzYZzrlgOIQ</td>\n",
       "      <td>NaN</td>\n",
       "    </tr>\n",
       "  </tbody>\n",
       "</table>\n",
       "<p>10000 rows × 18 columns</p>\n",
       "</div>"
      ],
      "text/plain": [
       "        end_lat    end_lon  fare_amt  passenger_count payment_type  start_lat  \\\n",
       "0     40.742963 -73.980072      45.0                1       Credit  40.641525   \n",
       "1     40.740187 -74.005698       6.5                1       Credit  40.722065   \n",
       "2     40.718043 -74.004745      12.5                5       Credit  40.761945   \n",
       "3     40.739637 -73.985233       4.9                1         CASH  40.749802   \n",
       "4     40.730032 -73.852693      25.7                1         CASH  40.776825   \n",
       "...         ...        ...       ...              ...          ...        ...   \n",
       "9995  40.783522 -73.970690       5.7                1         CASH  40.778560   \n",
       "9996  40.777200 -73.964197       4.1                1         CASH  40.779800   \n",
       "9997  40.780172 -73.957617       6.1                1         CASH  40.788388   \n",
       "9998  40.777342 -73.957242       5.7                1         CASH  40.773828   \n",
       "9999  40.757122 -73.986293       6.5                1       Credit  40.756313   \n",
       "\n",
       "      start_lon  tip_amt  tolls_amt  total_amt  trip_distance  \\\n",
       "0    -73.787442      9.0       4.15      58.15          17.52   \n",
       "1    -74.009767      1.0       0.00       8.50           1.56   \n",
       "2    -73.983038      2.0       0.00      15.50           3.37   \n",
       "3    -73.992247      0.0       0.00       5.40           1.11   \n",
       "4    -73.949233      0.0       4.15      29.85          11.09   \n",
       "...         ...      ...        ...        ...            ...   \n",
       "9995 -73.953660      0.0       0.00       5.70           1.16   \n",
       "9996 -73.974297      0.0       0.00       4.10           0.89   \n",
       "9997 -73.976758      0.0       0.00       6.10           1.30   \n",
       "9998 -73.956690      0.0       0.00       6.20           0.97   \n",
       "9999 -73.972948      2.0       0.00       8.50           0.92   \n",
       "\n",
       "        trip_dropoff_date_time     trip_pickup_date_time  surcharge  \\\n",
       "0    2009-06-14 23:48:00+00:00 2009-06-14 23:23:00+00:00        0.0   \n",
       "1    2009-06-18 17:43:00+00:00 2009-06-18 17:35:00+00:00        1.0   \n",
       "2    2009-06-10 18:27:00+00:00 2009-06-10 18:08:00+00:00        1.0   \n",
       "3    2009-06-14 23:58:00+00:00 2009-06-14 23:54:00+00:00        0.5   \n",
       "4    2009-06-13 13:23:00+00:00 2009-06-13 13:01:00+00:00        0.0   \n",
       "...                        ...                       ...        ...   \n",
       "9995 2009-06-19 11:28:00+00:00 2009-06-19 11:22:00+00:00        0.0   \n",
       "9996 2009-06-17 07:43:00+00:00 2009-06-17 07:41:00+00:00        0.0   \n",
       "9997 2009-06-19 11:46:00+00:00 2009-06-19 11:39:00+00:00        0.0   \n",
       "9998 2009-06-17 04:19:00+00:00 2009-06-17 04:13:00+00:00        0.5   \n",
       "9999 2009-06-17 08:34:00+00:00 2009-06-17 08:24:00+00:00        0.0   \n",
       "\n",
       "     vendor_name       _dlt_load_id         _dlt_id  store_and_forward  \n",
       "0            VTS  1739136153.653259  QbWLCQ+azSh9TA                NaN  \n",
       "1            VTS  1739136153.653259  9zYBaAFWGUyP2A                NaN  \n",
       "2            VTS  1739136153.653259  A31LKWx/CakJFg                NaN  \n",
       "3            VTS  1739136153.653259  ESNbIuYv9BZA/g                NaN  \n",
       "4            VTS  1739136153.653259  j0dvjEbL9Thg+Q                NaN  \n",
       "...          ...                ...             ...                ...  \n",
       "9995         VTS  1739136153.653259  agPlaLi/ZkdTCg                NaN  \n",
       "9996         VTS  1739136153.653259  b9WdrgWmi7d2Hw                NaN  \n",
       "9997         VTS  1739136153.653259  hXpaEaqFJXyIkQ                NaN  \n",
       "9998         VTS  1739136153.653259  G/ECbsMTJ+mm9w                NaN  \n",
       "9999         VTS  1739136153.653259  Bf1xzYZzrlgOIQ                NaN  \n",
       "\n",
       "[10000 rows x 18 columns]"
      ]
     },
     "execution_count": 10,
     "metadata": {},
     "output_type": "execute_result"
    }
   ],
   "source": [
    "df = pipeline.dataset(dataset_type=\"default\").rides.df()\n",
    "df"
   ]
  },
  {
   "cell_type": "markdown",
   "metadata": {
    "id": "OZEvd9TcgEst"
   },
   "source": [
    "**Answer:**\n",
    "* What is the total number of records extracted? 10000"
   ]
  },
  {
   "cell_type": "markdown",
   "metadata": {
    "id": "joyAEvNae6Ds"
   },
   "source": [
    "## **Question 4: Trip Duration Analysis**\n",
    "\n",
    "Run the SQL query below to:\n",
    "\n",
    "* Calculate the average trip duration in minutes."
   ]
  },
  {
   "cell_type": "code",
   "execution_count": 11,
   "metadata": {
    "id": "BtsSxtFfXQs3"
   },
   "outputs": [
    {
     "name": "stdout",
     "output_type": "stream",
     "text": [
      "[(12.3049,)]\n"
     ]
    }
   ],
   "source": [
    "with pipeline.sql_client() as client:\n",
    "    res = client.execute_sql(\n",
    "            \"\"\"\n",
    "            SELECT\n",
    "            AVG(date_diff('minute', trip_pickup_date_time, trip_dropoff_date_time))\n",
    "            FROM rides;\n",
    "            \"\"\"\n",
    "        )\n",
    "    # Prints column values of the first row\n",
    "    print(res)"
   ]
  },
  {
   "cell_type": "markdown",
   "metadata": {
    "id": "YTIydWT0dTf9"
   },
   "source": [
    "**Answer:**\n",
    "* What is the average trip duration? 12.3049"
   ]
  },
  {
   "cell_type": "markdown",
   "metadata": {
    "id": "kEFQZKB0gkCI"
   },
   "source": [
    "## **Submitting the solutions**\n",
    "\n",
    "* Form for submitting: TBA\n",
    "\n",
    "\n"
   ]
  },
  {
   "cell_type": "markdown",
   "metadata": {
    "id": "cPrgwE3ziNan"
   },
   "source": [
    "## **Solution**\n",
    "\n",
    "We will publish the solution here after deadline."
   ]
  }
 ],
 "metadata": {
  "colab": {
   "provenance": [],
   "toc_visible": true
  },
  "kernelspec": {
   "display_name": "venv",
   "language": "python",
   "name": "python3"
  },
  "language_info": {
   "codemirror_mode": {
    "name": "ipython",
    "version": 3
   },
   "file_extension": ".py",
   "mimetype": "text/x-python",
   "name": "python",
   "nbconvert_exporter": "python",
   "pygments_lexer": "ipython3",
   "version": "3.13.1"
  }
 },
 "nbformat": 4,
 "nbformat_minor": 0
}
